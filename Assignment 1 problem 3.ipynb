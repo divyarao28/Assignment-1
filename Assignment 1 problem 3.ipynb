{
 "cells": [
  {
   "cell_type": "code",
   "execution_count": 2,
   "id": "6b3692ff",
   "metadata": {},
   "outputs": [
    {
     "name": "stdout",
     "output_type": "stream",
     "text": [
      "the count of even numbers  5\n",
      "the count of odd numbers  4\n",
      "************************************** the assignment is over **************************************\n"
     ]
    }
   ],
   "source": [
    "x = 0\n",
    "y = 0\n",
    "for i in range(0,9):\n",
    "    if i % 2 == 0:\n",
    "        x += 1\n",
    "    else:\n",
    "        y += 1\n",
    "print(\"the count of even numbers \",x)\n",
    "print(\"the count of odd numbers \",y)\n",
    "\n",
    "print(\" the assignment is over \".center(100,\"*\"))"
   ]
  },
  {
   "cell_type": "code",
   "execution_count": null,
   "id": "06abaaf7",
   "metadata": {},
   "outputs": [],
   "source": []
  }
 ],
 "metadata": {
  "kernelspec": {
   "display_name": "Python 3 (ipykernel)",
   "language": "python",
   "name": "python3"
  },
  "language_info": {
   "codemirror_mode": {
    "name": "ipython",
    "version": 3
   },
   "file_extension": ".py",
   "mimetype": "text/x-python",
   "name": "python",
   "nbconvert_exporter": "python",
   "pygments_lexer": "ipython3",
   "version": "3.9.6"
  }
 },
 "nbformat": 4,
 "nbformat_minor": 5
}
